{
 "cells": [
  {
   "cell_type": "code",
   "execution_count": 1,
   "id": "23f9fb8a",
   "metadata": {},
   "outputs": [],
   "source": [
    "import pandas as pd\n",
    "import matplotlib.pyplot as plt\n",
    "from datasets import load_dataset\n",
    "\n",
    "# Load the dataset\n",
    "dataset = load_dataset('lukebarousse/data_jobs')\n",
    "df = dataset['train'].to_pandas()\n",
    "\n",
    "#cleaning the data\n",
    "df['job_posted_date'] = pd.to_datetime(df['job_posted_date'])"
   ]
  },
  {
   "cell_type": "code",
   "execution_count": 3,
   "id": "2abb704f",
   "metadata": {},
   "outputs": [
    {
     "data": {
      "text/plain": [
       "115000.0"
      ]
     },
     "execution_count": 3,
     "metadata": {},
     "output_type": "execute_result"
    }
   ],
   "source": [
    "median_salary_year_avg = df['salary_year_avg'].median()\n",
    "median_salary_year_avg"
   ]
  },
  {
   "cell_type": "code",
   "execution_count": null,
   "id": "d0661c22",
   "metadata": {},
   "outputs": [
    {
     "data": {
      "text/plain": [
       "45"
      ]
     },
     "execution_count": 7,
     "metadata": {},
     "output_type": "execute_result"
    }
   ],
   "source": [
    "median_salary_hour_avg = int(df['salary_hour_avg'].median())\n",
    "median_salary_hour_avg"
   ]
  },
  {
   "cell_type": "code",
   "execution_count": null,
   "id": "cc0b2fff",
   "metadata": {},
   "outputs": [],
   "source": [
    "df_filled = df"
   ]
  },
  {
   "cell_type": "code",
   "execution_count": 13,
   "id": "c076e3c0",
   "metadata": {},
   "outputs": [
    {
     "data": {
      "text/html": [
       "<div>\n",
       "<style scoped>\n",
       "    .dataframe tbody tr th:only-of-type {\n",
       "        vertical-align: middle;\n",
       "    }\n",
       "\n",
       "    .dataframe tbody tr th {\n",
       "        vertical-align: top;\n",
       "    }\n",
       "\n",
       "    .dataframe thead th {\n",
       "        text-align: right;\n",
       "    }\n",
       "</style>\n",
       "<table border=\"1\" class=\"dataframe\">\n",
       "  <thead>\n",
       "    <tr style=\"text-align: right;\">\n",
       "      <th></th>\n",
       "      <th>salary_year_avg</th>\n",
       "      <th>salary_hour_avg</th>\n",
       "    </tr>\n",
       "  </thead>\n",
       "  <tbody>\n",
       "    <tr>\n",
       "      <th>0</th>\n",
       "      <td>115000.0</td>\n",
       "      <td>45.0</td>\n",
       "    </tr>\n",
       "    <tr>\n",
       "      <th>1</th>\n",
       "      <td>115000.0</td>\n",
       "      <td>45.0</td>\n",
       "    </tr>\n",
       "    <tr>\n",
       "      <th>2</th>\n",
       "      <td>115000.0</td>\n",
       "      <td>45.0</td>\n",
       "    </tr>\n",
       "    <tr>\n",
       "      <th>3</th>\n",
       "      <td>115000.0</td>\n",
       "      <td>45.0</td>\n",
       "    </tr>\n",
       "    <tr>\n",
       "      <th>4</th>\n",
       "      <td>115000.0</td>\n",
       "      <td>45.0</td>\n",
       "    </tr>\n",
       "    <tr>\n",
       "      <th>5</th>\n",
       "      <td>115000.0</td>\n",
       "      <td>45.0</td>\n",
       "    </tr>\n",
       "    <tr>\n",
       "      <th>6</th>\n",
       "      <td>115000.0</td>\n",
       "      <td>45.0</td>\n",
       "    </tr>\n",
       "    <tr>\n",
       "      <th>7</th>\n",
       "      <td>115000.0</td>\n",
       "      <td>45.0</td>\n",
       "    </tr>\n",
       "    <tr>\n",
       "      <th>8</th>\n",
       "      <td>115000.0</td>\n",
       "      <td>45.0</td>\n",
       "    </tr>\n",
       "    <tr>\n",
       "      <th>9</th>\n",
       "      <td>115000.0</td>\n",
       "      <td>45.0</td>\n",
       "    </tr>\n",
       "    <tr>\n",
       "      <th>10</th>\n",
       "      <td>115000.0</td>\n",
       "      <td>45.0</td>\n",
       "    </tr>\n",
       "  </tbody>\n",
       "</table>\n",
       "</div>"
      ],
      "text/plain": [
       "    salary_year_avg  salary_hour_avg\n",
       "0          115000.0             45.0\n",
       "1          115000.0             45.0\n",
       "2          115000.0             45.0\n",
       "3          115000.0             45.0\n",
       "4          115000.0             45.0\n",
       "5          115000.0             45.0\n",
       "6          115000.0             45.0\n",
       "7          115000.0             45.0\n",
       "8          115000.0             45.0\n",
       "9          115000.0             45.0\n",
       "10         115000.0             45.0"
      ]
     },
     "execution_count": 13,
     "metadata": {},
     "output_type": "execute_result"
    }
   ],
   "source": [
    "df_filled['salary_year_avg'] = df_filled['salary_year_avg'].fillna(median_salary_year_avg)\n",
    "df_filled['salary_hour_avg'] = df_filled['salary_hour_avg'].fillna(median_salary_hour_avg)\n",
    "df_filled.loc[0:10,'salary_year_avg':\"salary_hour_avg\"]"
   ]
  },
  {
   "cell_type": "code",
   "execution_count": 15,
   "id": "91430cf4",
   "metadata": {},
   "outputs": [
    {
     "name": "stdout",
     "output_type": "stream",
     "text": [
      "original length: 785741\n",
      "new length: 785640\n",
      "removed number of duplicates: 101\n"
     ]
    }
   ],
   "source": [
    "df_unique = df_filled\n",
    "\n",
    "df_unique = df_unique.drop_duplicates()\n",
    "print('original length:' , len(df_filled))\n",
    "print('new length:', len(df_unique))\n",
    "print('removed number of duplicates:', len(df_filled) - len(df_unique))"
   ]
  },
  {
   "cell_type": "code",
   "execution_count": 16,
   "id": "f9fa88ed",
   "metadata": {},
   "outputs": [
    {
     "name": "stdout",
     "output_type": "stream",
     "text": [
      "original length: 785741\n",
      "new length: 508042\n",
      "removed number of duplicates: 277699\n"
     ]
    }
   ],
   "source": [
    "df_unique = df_unique.drop_duplicates(subset=['job_title', 'company_name'])\n",
    "print('original length:' , len(df_filled))\n",
    "print('new length:', len(df_unique))\n",
    "print('removed number of duplicates:', len(df_filled) - len(df_unique))"
   ]
  }
 ],
 "metadata": {
  "kernelspec": {
   "display_name": "python_project",
   "language": "python",
   "name": "python3"
  },
  "language_info": {
   "codemirror_mode": {
    "name": "ipython",
    "version": 3
   },
   "file_extension": ".py",
   "mimetype": "text/x-python",
   "name": "python",
   "nbconvert_exporter": "python",
   "pygments_lexer": "ipython3",
   "version": "3.12.11"
  }
 },
 "nbformat": 4,
 "nbformat_minor": 5
}
